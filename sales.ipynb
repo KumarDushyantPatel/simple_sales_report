{
 "cells": [
  {
   "cell_type": "code",
   "execution_count": 59,
   "id": "6ee6f4a1-a7d6-4592-b738-43836b3ecc6e",
   "metadata": {},
   "outputs": [],
   "source": [
    "import sqlite3"
   ]
  },
  {
   "cell_type": "code",
   "execution_count": 61,
   "id": "4f8fadf2-27a3-44cc-8ba3-fc7e434fa1eb",
   "metadata": {},
   "outputs": [],
   "source": [
    "conn = sqlite3.connect(\"sales_data.db\")\n",
    "cursor = conn.cursor()"
   ]
  },
  {
   "cell_type": "code",
   "execution_count": 63,
   "id": "bfd0426a-b27d-47a5-96d5-7a3e658a4cf9",
   "metadata": {},
   "outputs": [
    {
     "data": {
      "text/plain": [
       "<sqlite3.Cursor at 0x24eafef6f40>"
      ]
     },
     "execution_count": 63,
     "metadata": {},
     "output_type": "execute_result"
    }
   ],
   "source": [
    "cursor.execute(\"\"\"\n",
    "CREATE TABLE IF NOT EXISTS sales (\n",
    "    id INTEGER PRIMARY KEY AUTOINCREMENT,\n",
    "    product TEXT,\n",
    "    quantity INTEGER,\n",
    "    price REAL\n",
    ")\n",
    "\"\"\")"
   ]
  },
  {
   "cell_type": "code",
   "execution_count": 65,
   "id": "3df1f728-ee09-40a9-8c4f-21753354948d",
   "metadata": {},
   "outputs": [],
   "source": [
    "sales_data = [\n",
    "    ('Eggplant', 10, 2.5),\n",
    "    ('Tomato', 5, 1.2),\n",
    "    ('Eggplant', 15, 2.5),\n",
    "    ('Onion', 8, 3.0),\n",
    "    ('Tomato', 12, 1.2),\n",
    "    ('Onion', 10, 3.0),\n",
    "]"
   ]
  },
  {
   "cell_type": "code",
   "execution_count": 67,
   "id": "01b6a9c6-c1ce-4429-87a8-a717ffbf7d05",
   "metadata": {},
   "outputs": [
    {
     "data": {
      "text/plain": [
       "<sqlite3.Cursor at 0x24eafef6f40>"
      ]
     },
     "execution_count": 67,
     "metadata": {},
     "output_type": "execute_result"
    }
   ],
   "source": [
    "cursor.executemany(\"INSERT INTO sales (product, quantity, price) VALUES (?, ?, ?)\", \n",
    "                   sales_data)"
   ]
  },
  {
   "cell_type": "code",
   "execution_count": 69,
   "id": "4d770639-9095-4210-898d-05de8a0dcf8f",
   "metadata": {},
   "outputs": [],
   "source": [
    "conn.commit()\n",
    "conn.close()"
   ]
  },
  {
   "cell_type": "code",
   "execution_count": 71,
   "id": "cf74949d-bc45-4afc-aedc-a485bc018b5b",
   "metadata": {},
   "outputs": [
    {
     "name": "stdout",
     "output_type": "stream",
     "text": [
      "Database created and data inserted.\n"
     ]
    }
   ],
   "source": [
    "print(\"Database created and data inserted.\")"
   ]
  },
  {
   "cell_type": "code",
   "execution_count": 73,
   "id": "c6bd43ad-ee6c-4fa9-adbb-a50c21977461",
   "metadata": {},
   "outputs": [],
   "source": [
    "import sqlite3\n",
    "import pandas as pd\n",
    "import matplotlib.pyplot as plt"
   ]
  },
  {
   "cell_type": "code",
   "execution_count": 75,
   "id": "adc51317-ca6f-45de-8683-97ea4bdc46ec",
   "metadata": {},
   "outputs": [],
   "source": [
    "conn = sqlite3.connect(\"sales_data.db\")"
   ]
  },
  {
   "cell_type": "code",
   "execution_count": 77,
   "id": "31825e2c-2b81-4933-a3f4-b895eab5140a",
   "metadata": {},
   "outputs": [],
   "source": [
    "query = \"\"\"\n",
    "SELECT \n",
    "    product, \n",
    "    SUM(quantity) AS total_qty, \n",
    "    SUM(quantity * price) AS revenue\n",
    "FROM sales\n",
    "GROUP BY product\n",
    "\"\"\""
   ]
  },
  {
   "cell_type": "code",
   "execution_count": 79,
   "id": "930983bd-369c-4579-9e02-922c242cea26",
   "metadata": {},
   "outputs": [],
   "source": [
    "df = pd.read_sql_query(query, conn)"
   ]
  },
  {
   "cell_type": "code",
   "execution_count": 81,
   "id": "fbaf7c8d-bf69-4925-812e-23336451e8bd",
   "metadata": {},
   "outputs": [],
   "source": [
    "conn.close()"
   ]
  },
  {
   "cell_type": "code",
   "execution_count": 83,
   "id": "174f7848-1fd9-44c9-8dcc-735da60dc01e",
   "metadata": {},
   "outputs": [
    {
     "name": "stdout",
     "output_type": "stream",
     "text": [
      "Basic Sales Summary:\n",
      "    product  total_qty  revenue\n",
      "0  Eggplant         25     62.5\n",
      "1     Onion         18     54.0\n",
      "2    Tomato         17     20.4\n"
     ]
    }
   ],
   "source": [
    "print(\"Basic Sales Summary:\")\n",
    "print(df)"
   ]
  },
  {
   "cell_type": "code",
   "execution_count": 85,
   "id": "3d4c8d21-f8e8-41fa-9b30-69914c48af2c",
   "metadata": {},
   "outputs": [
    {
     "data": {
      "image/png": "[encoded data removed]",
      "text/plain": [
       "<Figure size 640x480 with 1 Axes>"
      ]
     },
     "metadata": {},
     "output_type": "display_data"
    }
   ],
   "source": [
    "df.plot(kind='bar', x='product', y='revenue', color='Blue', legend=False)\n",
    "plt.title(\"Revenue by Product\")\n",
    "plt.xlabel(\"Product\")\n",
    "plt.ylabel(\"Revenue\")\n",
    "plt.tight_layout()\n",
    "plt.savefig(\"sales_chart.png\")\n",
    "plt.show()"
   ]
  },
  {
   "cell_type": "code",
   "execution_count": 45,
   "id": "dfd6b92e-b807-4565-be92-1049df2cd61c",
   "metadata": {},
   "outputs": [],
   "source": []
  },
  {
   "cell_type": "code",
   "execution_count": null,
   "id": "de940418-8501-4366-b707-f83b7781b80a",
   "metadata": {},
   "outputs": [],
   "source": []
  }
 ],
 "metadata": {
  "kernelspec": {
   "display_name": "Python [conda env:base] *",
   "language": "python",
   "name": "conda-base-py"
  },
  "language_info": {
   "codemirror_mode": {
    "name": "ipython",
    "version": 3
   },
   "file_extension": ".py",
   "mimetype": "text/x-python",
   "name": "python",
   "nbconvert_exporter": "python",
   "pygments_lexer": "ipython3",
   "version": "3.12.7"
  }
 },
 "nbformat": 4,
 "nbformat_minor": 5
}
